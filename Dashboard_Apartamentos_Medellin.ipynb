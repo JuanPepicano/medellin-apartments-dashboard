{
  "nbformat": 4,
  "nbformat_minor": 0,
  "metadata": {
    "colab": {
      "provenance": [],
      "authorship_tag": "ABX9TyM8KFLPjPpN3hMp2g+Dbr4X",
      "include_colab_link": true
    },
    "kernelspec": {
      "name": "python3",
      "display_name": "Python 3"
    },
    "language_info": {
      "name": "python"
    }
  },
  "cells": [
    {
      "cell_type": "markdown",
      "metadata": {
        "id": "view-in-github",
        "colab_type": "text"
      },
      "source": [
        "<a href=\"https://colab.research.google.com/github/JuanPepicano/medellin-apartments-dashboard/blob/main/Dashboard_Apartamentos_Medellin.ipynb\" target=\"_parent\"><img src=\"https://colab.research.google.com/assets/colab-badge.svg\" alt=\"Open In Colab\"/></a>"
      ]
    },
    {
      "cell_type": "code",
      "execution_count": 9,
      "metadata": {
        "colab": {
          "base_uri": "https://localhost:8080/",
          "height": 672
        },
        "id": "7wC9EbN_IZf7",
        "outputId": "02edfb87-c83a-4398-a4b2-bbd09ff59c81"
      },
      "outputs": [
        {
          "output_type": "display_data",
          "data": {
            "text/plain": [
              "<IPython.core.display.Javascript object>"
            ],
            "application/javascript": [
              "(async (port, path, width, height, cache, element) => {\n",
              "    if (!google.colab.kernel.accessAllowed && !cache) {\n",
              "      return;\n",
              "    }\n",
              "    element.appendChild(document.createTextNode(''));\n",
              "    const url = await google.colab.kernel.proxyPort(port, {cache});\n",
              "    const iframe = document.createElement('iframe');\n",
              "    iframe.src = new URL(path, url).toString();\n",
              "    iframe.height = height;\n",
              "    iframe.width = width;\n",
              "    iframe.style.border = 0;\n",
              "    iframe.allow = [\n",
              "        'accelerometer',\n",
              "        'autoplay',\n",
              "        'camera',\n",
              "        'clipboard-read',\n",
              "        'clipboard-write',\n",
              "        'gyroscope',\n",
              "        'magnetometer',\n",
              "        'microphone',\n",
              "        'serial',\n",
              "        'usb',\n",
              "        'xr-spatial-tracking',\n",
              "    ].join('; ');\n",
              "    element.appendChild(iframe);\n",
              "  })(8050, \"/\", \"100%\", 650, false, window.element)"
            ]
          },
          "metadata": {}
        }
      ],
      "source": [
        "import dash\n",
        "from dash import dcc, html, Input, Output, dash_table\n",
        "import pandas as pd\n",
        "import plotly.express as px\n",
        "\n",
        "# Cargar datos\n",
        "df = pd.read_csv(\"/content/drive/MyDrive/houses_medellin (1).csv\")\n",
        "\n",
        "# Renombrar columnas para uso consistente\n",
        "df.rename(columns={\n",
        "    'Área construída (m²)': 'AreaConstruida',\n",
        "    'Baños': 'Banos',\n",
        "    'Administración': 'Administracion'\n",
        "}, inplace=True)\n",
        "\n",
        "app = dash.Dash(__name__)\n",
        "server = app.server\n",
        "\n",
        "def filter_by_group(df, variable):\n",
        "    \"\"\"\n",
        "    Filtra el DataFrame eliminando outliers a nivel de cada grupo de Estrato,\n",
        "    conservando solo los registros entre el percentil 5 y el 95% de cada grupo.\n",
        "    \"\"\"\n",
        "    groups = []\n",
        "    for estrato, group in df.groupby(\"Estrato\"):\n",
        "        lower = group[variable].quantile(0.05)\n",
        "        upper = group[variable].quantile(0.95)\n",
        "        group_filtered = group[(group[variable] >= lower) & (group[variable] <= upper)]\n",
        "        groups.append(group_filtered)\n",
        "    return pd.concat(groups)\n",
        "\n",
        "# Layout del dashboard\n",
        "app.layout = html.Div([\n",
        "    html.H1(\"Dashboard: Precio de Apartamentos en Medellín por Estrato\"),\n",
        "\n",
        "    html.Div([\n",
        "        html.Label(\"Seleccionar variable para boxplot\"),\n",
        "        dcc.Dropdown(\n",
        "            id='variable_dropdown',\n",
        "            options=[\n",
        "                {'label': 'Precio', 'value': 'Precio'},\n",
        "                {'label': 'Área Construida', 'value': 'AreaConstruida'},\n",
        "                {'label': 'Habitaciones', 'value': 'Habitaciones'},\n",
        "                {'label': 'Baños', 'value': 'Banos'},\n",
        "                {'label': 'Administración', 'value': 'Administracion'},\n",
        "                {'label': 'Parqueaderos', 'value': 'Parqueaderos'}\n",
        "            ],\n",
        "            value='Precio'\n",
        "        )\n",
        "    ], style={'width': '40%', 'display': 'inline-block'}),\n",
        "\n",
        "    dcc.Graph(id='boxplot_graph', style={'width': '100%', 'height': '600px'}),\n",
        "\n",
        "    html.Div([\n",
        "        html.Label(\"Filtrar por número de baños\"),\n",
        "        dcc.Slider(\n",
        "            id='banos_slider',\n",
        "            min=int(df['Banos'].min()),\n",
        "            max=int(df['Banos'].max()),\n",
        "            step=1,\n",
        "            marks={int(b): str(int(b)) for b in sorted(df['Banos'].dropna().unique())},\n",
        "            value=int(df['Banos'].min())\n",
        "        )\n",
        "    ], style={'width': '80%', 'padding': '40px'}),\n",
        "\n",
        "    dcc.Graph(id='scatter_area_precio', style={'width': '100%', 'height': '600px'}),\n",
        "\n",
        "    html.Div([\n",
        "        html.H3(\"Narrativa\"),\n",
        "        html.P(\"Antes de presentar el dashboard a la audiencia, se han realizado ajustes para que los gráficos sean más claros. \"\n",
        "               \"Se han removido los datos extremos (outliers) a nivel de cada estrato, limitando los valores mostrados a los percentiles \"\n",
        "               \"5 y 95 de cada grupo. Esto evita espacios en blanco innecesarios y facilita la interpretación visual para usuarios no técnicos, \"\n",
        "               \"permitiendo ver de forma clara las tendencias y patrones en el mercado inmobiliario.\")\n",
        "    ], style={\"padding\": \"20px\"})\n",
        "])\n",
        "\n",
        "# Callback para actualizar el boxplot con eliminación de outliers a nivel de cada grupo\n",
        "@app.callback(\n",
        "    Output('boxplot_graph', 'figure'),\n",
        "    Input('variable_dropdown', 'value')\n",
        ")\n",
        "def update_boxplot(variable):\n",
        "    # Filtrar los datos por grupo para eliminar outliers en cada estrato\n",
        "    df_filtered_group = filter_by_group(df, variable)\n",
        "\n",
        "    # Para \"Precio\" se puede aplicar logaritmo en el eje y para mejorar la visualización\n",
        "    log_y = True if variable == 'Precio' else False\n",
        "\n",
        "    fig = px.box(df_filtered_group, x='Estrato', y=variable, points=\"all\",\n",
        "                 log_y=log_y,\n",
        "                 title=f\"Distribución de {variable} por Estrato (Datos entre 5% y 95% por grupo)\")\n",
        "    return fig\n",
        "\n",
        "# Callback para actualizar el scatter plot según el filtro de baños\n",
        "@app.callback(\n",
        "    Output('scatter_area_precio', 'figure'),\n",
        "    Input('banos_slider', 'value')\n",
        ")\n",
        "def update_scatter(banos):\n",
        "    filtered_df = df[df['Banos'] == banos]\n",
        "    fig = px.scatter(filtered_df, x='AreaConstruida', y='Precio', color='Estrato',\n",
        "                     title=f\"Precio vs. Área Construida para {banos} baños\")\n",
        "    return fig\n",
        "\n",
        "if __name__ == '__main__':\n",
        "    app.run(debug=True)\n",
        "\n",
        "\n"
      ]
    },
    {
      "cell_type": "code",
      "source": [
        "from google.colab import drive\n",
        "drive.mount(\"/content/drive\")"
      ],
      "metadata": {
        "colab": {
          "base_uri": "https://localhost:8080/"
        },
        "id": "rh1yeqrGI2w9",
        "outputId": "2ec66f25-6320-4404-f83a-b0705d6c7158"
      },
      "execution_count": 5,
      "outputs": [
        {
          "output_type": "stream",
          "name": "stdout",
          "text": [
            "Mounted at /content/drive\n"
          ]
        }
      ]
    },
    {
      "cell_type": "code",
      "source": [],
      "metadata": {
        "id": "b2LCV3uMIyIh"
      },
      "execution_count": null,
      "outputs": []
    }
  ]
}