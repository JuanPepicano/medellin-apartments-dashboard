{
  "nbformat": 4,
  "nbformat_minor": 0,
  "metadata": {
    "colab": {
      "provenance": [],
      "mount_file_id": "1ANiz5qqyfRZ8v4dZG2q4vcJ218gogfhh",
      "authorship_tag": "ABX9TyNnIA2ILf9LK4hkM6DWrjr7",
      "include_colab_link": true
    },
    "kernelspec": {
      "name": "python3",
      "display_name": "Python 3"
    },
    "language_info": {
      "name": "python"
    }
  },
  "cells": [
    {
      "cell_type": "markdown",
      "metadata": {
        "id": "view-in-github",
        "colab_type": "text"
      },
      "source": [
        "<a href=\"https://colab.research.google.com/github/JuanPepicano/medellin-apartments-dashboard/blob/main/actividad_6_Transferencia.ipynb\" target=\"_parent\"><img src=\"https://colab.research.google.com/assets/colab-badge.svg\" alt=\"Open In Colab\"/></a>"
      ]
    },
    {
      "cell_type": "code",
      "execution_count": 1,
      "metadata": {
        "colab": {
          "base_uri": "https://localhost:8080/"
        },
        "id": "p6NnOf5iYDy3",
        "outputId": "aeb4d91e-49db-4c7f-e246-1d95c68b7688"
      },
      "outputs": [
        {
          "output_type": "stream",
          "name": "stdout",
          "text": [
            "Mounted at /content/drive\n"
          ]
        }
      ],
      "source": [
        "from google.colab import drive\n",
        "drive.mount(\"/content/drive\")"
      ]
    },
    {
      "cell_type": "code",
      "source": [],
      "metadata": {
        "id": "iQ9PqesvmxvD"
      },
      "execution_count": null,
      "outputs": []
    },
    {
      "cell_type": "code",
      "source": [
        "import pandas as pd\n",
        "import numpy as np\n",
        "import scipy.stats as stats\n",
        "import matplotlib.pyplot as plt\n",
        "import seaborn as sns\n",
        "from sklearn.model_selection import train_test_split\n",
        "from sklearn.linear_model import LinearRegression, LogisticRegression\n",
        "from sklearn.metrics import mean_squared_error, r2_score, accuracy_score, confusion_matrix, classification_report\n",
        "from sklearn.preprocessing import StandardScaler\n",
        "from statsmodels.stats.outliers_influence import variance_inflation_factor"
      ],
      "metadata": {
        "id": "LE2sO3-EaOsa"
      },
      "execution_count": 3,
      "outputs": []
    },
    {
      "cell_type": "code",
      "source": [
        "df = pd.read_csv(\"/houses_medellin_cleaned.csv\")"
      ],
      "metadata": {
        "id": "GnxTc-3EchAh"
      },
      "execution_count": 4,
      "outputs": []
    },
    {
      "cell_type": "code",
      "source": [
        "df.info()\n",
        "df.describe()"
      ],
      "metadata": {
        "colab": {
          "base_uri": "https://localhost:8080/",
          "height": 648
        },
        "id": "cND9sXopcjsd",
        "outputId": "e5d5a69e-6cd8-4884-90b1-4ef0cf57a04f"
      },
      "execution_count": 6,
      "outputs": [
        {
          "output_type": "stream",
          "name": "stdout",
          "text": [
            "<class 'pandas.core.frame.DataFrame'>\n",
            "RangeIndex: 274 entries, 0 to 273\n",
            "Data columns (total 13 columns):\n",
            " #   Column                Non-Null Count  Dtype  \n",
            "---  ------                --------------  -----  \n",
            " 0   Habitaciones          272 non-null    float64\n",
            " 1   Baños                 271 non-null    float64\n",
            " 2   Estrato               274 non-null    float64\n",
            " 3   Antigüedad            217 non-null    object \n",
            " 4   Piso N°               214 non-null    object \n",
            " 5   Administración        199 non-null    float64\n",
            " 6   Precio m²             274 non-null    float64\n",
            " 7   Parqueaderos          212 non-null    float64\n",
            " 8   Estado                150 non-null    object \n",
            " 9   Tipo de apartamento   19 non-null     object \n",
            " 10  Precio                274 non-null    int64  \n",
            " 11  Área construída (m²)  274 non-null    float64\n",
            " 12  Área privada (m²)     274 non-null    float64\n",
            "dtypes: float64(8), int64(1), object(4)\n",
            "memory usage: 28.0+ KB\n"
          ]
        },
        {
          "output_type": "execute_result",
          "data": {
            "text/plain": [
              "       Habitaciones       Baños     Estrato  Administración     Precio m²  \\\n",
              "count    272.000000  271.000000  274.000000    1.990000e+02  2.740000e+02   \n",
              "mean       2.665441    2.383764    4.817518    3.918098e+05  3.101543e+09   \n",
              "std        1.375263    1.057755    1.042812    3.180504e+05  4.483738e+10   \n",
              "min        1.000000    1.000000    2.000000    1.000000e+00  3.250000e+06   \n",
              "25%        2.000000    2.000000    4.000000    1.751500e+05  3.174419e+08   \n",
              "50%        3.000000    2.000000    5.000000    3.110000e+05  4.344086e+08   \n",
              "75%        3.000000    3.000000    6.000000    5.325000e+05  5.280436e+08   \n",
              "max       20.000000    6.000000    6.000000    2.500000e+06  7.425743e+11   \n",
              "\n",
              "       Parqueaderos        Precio  Área construída (m²)  Área privada (m²)  \n",
              "count    212.000000  2.740000e+02            274.000000         274.000000  \n",
              "mean       1.457547  5.975466e+09            424.313869         122.638686  \n",
              "std        0.676687  9.058870e+10           1685.340547         683.448820  \n",
              "min        1.000000  9.000000e+07             28.000000           0.000000  \n",
              "25%        1.000000  2.650000e+08             62.000000           0.000000  \n",
              "50%        1.000000  4.160000e+08             86.000000          53.500000  \n",
              "75%        2.000000  6.300000e+08            129.250000          98.000000  \n",
              "max        5.000000  1.500000e+12          12597.000000        8023.000000  "
            ],
            "text/html": [
              "\n",
              "  <div id=\"df-820d21c2-ae17-4951-97a8-d2bdbdecb2ca\" class=\"colab-df-container\">\n",
              "    <div>\n",
              "<style scoped>\n",
              "    .dataframe tbody tr th:only-of-type {\n",
              "        vertical-align: middle;\n",
              "    }\n",
              "\n",
              "    .dataframe tbody tr th {\n",
              "        vertical-align: top;\n",
              "    }\n",
              "\n",
              "    .dataframe thead th {\n",
              "        text-align: right;\n",
              "    }\n",
              "</style>\n",
              "<table border=\"1\" class=\"dataframe\">\n",
              "  <thead>\n",
              "    <tr style=\"text-align: right;\">\n",
              "      <th></th>\n",
              "      <th>Habitaciones</th>\n",
              "      <th>Baños</th>\n",
              "      <th>Estrato</th>\n",
              "      <th>Administración</th>\n",
              "      <th>Precio m²</th>\n",
              "      <th>Parqueaderos</th>\n",
              "      <th>Precio</th>\n",
              "      <th>Área construída (m²)</th>\n",
              "      <th>Área privada (m²)</th>\n",
              "    </tr>\n",
              "  </thead>\n",
              "  <tbody>\n",
              "    <tr>\n",
              "      <th>count</th>\n",
              "      <td>272.000000</td>\n",
              "      <td>271.000000</td>\n",
              "      <td>274.000000</td>\n",
              "      <td>1.990000e+02</td>\n",
              "      <td>2.740000e+02</td>\n",
              "      <td>212.000000</td>\n",
              "      <td>2.740000e+02</td>\n",
              "      <td>274.000000</td>\n",
              "      <td>274.000000</td>\n",
              "    </tr>\n",
              "    <tr>\n",
              "      <th>mean</th>\n",
              "      <td>2.665441</td>\n",
              "      <td>2.383764</td>\n",
              "      <td>4.817518</td>\n",
              "      <td>3.918098e+05</td>\n",
              "      <td>3.101543e+09</td>\n",
              "      <td>1.457547</td>\n",
              "      <td>5.975466e+09</td>\n",
              "      <td>424.313869</td>\n",
              "      <td>122.638686</td>\n",
              "    </tr>\n",
              "    <tr>\n",
              "      <th>std</th>\n",
              "      <td>1.375263</td>\n",
              "      <td>1.057755</td>\n",
              "      <td>1.042812</td>\n",
              "      <td>3.180504e+05</td>\n",
              "      <td>4.483738e+10</td>\n",
              "      <td>0.676687</td>\n",
              "      <td>9.058870e+10</td>\n",
              "      <td>1685.340547</td>\n",
              "      <td>683.448820</td>\n",
              "    </tr>\n",
              "    <tr>\n",
              "      <th>min</th>\n",
              "      <td>1.000000</td>\n",
              "      <td>1.000000</td>\n",
              "      <td>2.000000</td>\n",
              "      <td>1.000000e+00</td>\n",
              "      <td>3.250000e+06</td>\n",
              "      <td>1.000000</td>\n",
              "      <td>9.000000e+07</td>\n",
              "      <td>28.000000</td>\n",
              "      <td>0.000000</td>\n",
              "    </tr>\n",
              "    <tr>\n",
              "      <th>25%</th>\n",
              "      <td>2.000000</td>\n",
              "      <td>2.000000</td>\n",
              "      <td>4.000000</td>\n",
              "      <td>1.751500e+05</td>\n",
              "      <td>3.174419e+08</td>\n",
              "      <td>1.000000</td>\n",
              "      <td>2.650000e+08</td>\n",
              "      <td>62.000000</td>\n",
              "      <td>0.000000</td>\n",
              "    </tr>\n",
              "    <tr>\n",
              "      <th>50%</th>\n",
              "      <td>3.000000</td>\n",
              "      <td>2.000000</td>\n",
              "      <td>5.000000</td>\n",
              "      <td>3.110000e+05</td>\n",
              "      <td>4.344086e+08</td>\n",
              "      <td>1.000000</td>\n",
              "      <td>4.160000e+08</td>\n",
              "      <td>86.000000</td>\n",
              "      <td>53.500000</td>\n",
              "    </tr>\n",
              "    <tr>\n",
              "      <th>75%</th>\n",
              "      <td>3.000000</td>\n",
              "      <td>3.000000</td>\n",
              "      <td>6.000000</td>\n",
              "      <td>5.325000e+05</td>\n",
              "      <td>5.280436e+08</td>\n",
              "      <td>2.000000</td>\n",
              "      <td>6.300000e+08</td>\n",
              "      <td>129.250000</td>\n",
              "      <td>98.000000</td>\n",
              "    </tr>\n",
              "    <tr>\n",
              "      <th>max</th>\n",
              "      <td>20.000000</td>\n",
              "      <td>6.000000</td>\n",
              "      <td>6.000000</td>\n",
              "      <td>2.500000e+06</td>\n",
              "      <td>7.425743e+11</td>\n",
              "      <td>5.000000</td>\n",
              "      <td>1.500000e+12</td>\n",
              "      <td>12597.000000</td>\n",
              "      <td>8023.000000</td>\n",
              "    </tr>\n",
              "  </tbody>\n",
              "</table>\n",
              "</div>\n",
              "    <div class=\"colab-df-buttons\">\n",
              "\n",
              "  <div class=\"colab-df-container\">\n",
              "    <button class=\"colab-df-convert\" onclick=\"convertToInteractive('df-820d21c2-ae17-4951-97a8-d2bdbdecb2ca')\"\n",
              "            title=\"Convert this dataframe to an interactive table.\"\n",
              "            style=\"display:none;\">\n",
              "\n",
              "  <svg xmlns=\"http://www.w3.org/2000/svg\" height=\"24px\" viewBox=\"0 -960 960 960\">\n",
              "    <path d=\"M120-120v-720h720v720H120Zm60-500h600v-160H180v160Zm220 220h160v-160H400v160Zm0 220h160v-160H400v160ZM180-400h160v-160H180v160Zm440 0h160v-160H620v160ZM180-180h160v-160H180v160Zm440 0h160v-160H620v160Z\"/>\n",
              "  </svg>\n",
              "    </button>\n",
              "\n",
              "  <style>\n",
              "    .colab-df-container {\n",
              "      display:flex;\n",
              "      gap: 12px;\n",
              "    }\n",
              "\n",
              "    .colab-df-convert {\n",
              "      background-color: #E8F0FE;\n",
              "      border: none;\n",
              "      border-radius: 50%;\n",
              "      cursor: pointer;\n",
              "      display: none;\n",
              "      fill: #1967D2;\n",
              "      height: 32px;\n",
              "      padding: 0 0 0 0;\n",
              "      width: 32px;\n",
              "    }\n",
              "\n",
              "    .colab-df-convert:hover {\n",
              "      background-color: #E2EBFA;\n",
              "      box-shadow: 0px 1px 2px rgba(60, 64, 67, 0.3), 0px 1px 3px 1px rgba(60, 64, 67, 0.15);\n",
              "      fill: #174EA6;\n",
              "    }\n",
              "\n",
              "    .colab-df-buttons div {\n",
              "      margin-bottom: 4px;\n",
              "    }\n",
              "\n",
              "    [theme=dark] .colab-df-convert {\n",
              "      background-color: #3B4455;\n",
              "      fill: #D2E3FC;\n",
              "    }\n",
              "\n",
              "    [theme=dark] .colab-df-convert:hover {\n",
              "      background-color: #434B5C;\n",
              "      box-shadow: 0px 1px 3px 1px rgba(0, 0, 0, 0.15);\n",
              "      filter: drop-shadow(0px 1px 2px rgba(0, 0, 0, 0.3));\n",
              "      fill: #FFFFFF;\n",
              "    }\n",
              "  </style>\n",
              "\n",
              "    <script>\n",
              "      const buttonEl =\n",
              "        document.querySelector('#df-820d21c2-ae17-4951-97a8-d2bdbdecb2ca button.colab-df-convert');\n",
              "      buttonEl.style.display =\n",
              "        google.colab.kernel.accessAllowed ? 'block' : 'none';\n",
              "\n",
              "      async function convertToInteractive(key) {\n",
              "        const element = document.querySelector('#df-820d21c2-ae17-4951-97a8-d2bdbdecb2ca');\n",
              "        const dataTable =\n",
              "          await google.colab.kernel.invokeFunction('convertToInteractive',\n",
              "                                                    [key], {});\n",
              "        if (!dataTable) return;\n",
              "\n",
              "        const docLinkHtml = 'Like what you see? Visit the ' +\n",
              "          '<a target=\"_blank\" href=https://colab.research.google.com/notebooks/data_table.ipynb>data table notebook</a>'\n",
              "          + ' to learn more about interactive tables.';\n",
              "        element.innerHTML = '';\n",
              "        dataTable['output_type'] = 'display_data';\n",
              "        await google.colab.output.renderOutput(dataTable, element);\n",
              "        const docLink = document.createElement('div');\n",
              "        docLink.innerHTML = docLinkHtml;\n",
              "        element.appendChild(docLink);\n",
              "      }\n",
              "    </script>\n",
              "  </div>\n",
              "\n",
              "\n",
              "<div id=\"df-a0d7c7bd-5b7c-48db-89e7-094e3b897865\">\n",
              "  <button class=\"colab-df-quickchart\" onclick=\"quickchart('df-a0d7c7bd-5b7c-48db-89e7-094e3b897865')\"\n",
              "            title=\"Suggest charts\"\n",
              "            style=\"display:none;\">\n",
              "\n",
              "<svg xmlns=\"http://www.w3.org/2000/svg\" height=\"24px\"viewBox=\"0 0 24 24\"\n",
              "     width=\"24px\">\n",
              "    <g>\n",
              "        <path d=\"M19 3H5c-1.1 0-2 .9-2 2v14c0 1.1.9 2 2 2h14c1.1 0 2-.9 2-2V5c0-1.1-.9-2-2-2zM9 17H7v-7h2v7zm4 0h-2V7h2v10zm4 0h-2v-4h2v4z\"/>\n",
              "    </g>\n",
              "</svg>\n",
              "  </button>\n",
              "\n",
              "<style>\n",
              "  .colab-df-quickchart {\n",
              "      --bg-color: #E8F0FE;\n",
              "      --fill-color: #1967D2;\n",
              "      --hover-bg-color: #E2EBFA;\n",
              "      --hover-fill-color: #174EA6;\n",
              "      --disabled-fill-color: #AAA;\n",
              "      --disabled-bg-color: #DDD;\n",
              "  }\n",
              "\n",
              "  [theme=dark] .colab-df-quickchart {\n",
              "      --bg-color: #3B4455;\n",
              "      --fill-color: #D2E3FC;\n",
              "      --hover-bg-color: #434B5C;\n",
              "      --hover-fill-color: #FFFFFF;\n",
              "      --disabled-bg-color: #3B4455;\n",
              "      --disabled-fill-color: #666;\n",
              "  }\n",
              "\n",
              "  .colab-df-quickchart {\n",
              "    background-color: var(--bg-color);\n",
              "    border: none;\n",
              "    border-radius: 50%;\n",
              "    cursor: pointer;\n",
              "    display: none;\n",
              "    fill: var(--fill-color);\n",
              "    height: 32px;\n",
              "    padding: 0;\n",
              "    width: 32px;\n",
              "  }\n",
              "\n",
              "  .colab-df-quickchart:hover {\n",
              "    background-color: var(--hover-bg-color);\n",
              "    box-shadow: 0 1px 2px rgba(60, 64, 67, 0.3), 0 1px 3px 1px rgba(60, 64, 67, 0.15);\n",
              "    fill: var(--button-hover-fill-color);\n",
              "  }\n",
              "\n",
              "  .colab-df-quickchart-complete:disabled,\n",
              "  .colab-df-quickchart-complete:disabled:hover {\n",
              "    background-color: var(--disabled-bg-color);\n",
              "    fill: var(--disabled-fill-color);\n",
              "    box-shadow: none;\n",
              "  }\n",
              "\n",
              "  .colab-df-spinner {\n",
              "    border: 2px solid var(--fill-color);\n",
              "    border-color: transparent;\n",
              "    border-bottom-color: var(--fill-color);\n",
              "    animation:\n",
              "      spin 1s steps(1) infinite;\n",
              "  }\n",
              "\n",
              "  @keyframes spin {\n",
              "    0% {\n",
              "      border-color: transparent;\n",
              "      border-bottom-color: var(--fill-color);\n",
              "      border-left-color: var(--fill-color);\n",
              "    }\n",
              "    20% {\n",
              "      border-color: transparent;\n",
              "      border-left-color: var(--fill-color);\n",
              "      border-top-color: var(--fill-color);\n",
              "    }\n",
              "    30% {\n",
              "      border-color: transparent;\n",
              "      border-left-color: var(--fill-color);\n",
              "      border-top-color: var(--fill-color);\n",
              "      border-right-color: var(--fill-color);\n",
              "    }\n",
              "    40% {\n",
              "      border-color: transparent;\n",
              "      border-right-color: var(--fill-color);\n",
              "      border-top-color: var(--fill-color);\n",
              "    }\n",
              "    60% {\n",
              "      border-color: transparent;\n",
              "      border-right-color: var(--fill-color);\n",
              "    }\n",
              "    80% {\n",
              "      border-color: transparent;\n",
              "      border-right-color: var(--fill-color);\n",
              "      border-bottom-color: var(--fill-color);\n",
              "    }\n",
              "    90% {\n",
              "      border-color: transparent;\n",
              "      border-bottom-color: var(--fill-color);\n",
              "    }\n",
              "  }\n",
              "</style>\n",
              "\n",
              "  <script>\n",
              "    async function quickchart(key) {\n",
              "      const quickchartButtonEl =\n",
              "        document.querySelector('#' + key + ' button');\n",
              "      quickchartButtonEl.disabled = true;  // To prevent multiple clicks.\n",
              "      quickchartButtonEl.classList.add('colab-df-spinner');\n",
              "      try {\n",
              "        const charts = await google.colab.kernel.invokeFunction(\n",
              "            'suggestCharts', [key], {});\n",
              "      } catch (error) {\n",
              "        console.error('Error during call to suggestCharts:', error);\n",
              "      }\n",
              "      quickchartButtonEl.classList.remove('colab-df-spinner');\n",
              "      quickchartButtonEl.classList.add('colab-df-quickchart-complete');\n",
              "    }\n",
              "    (() => {\n",
              "      let quickchartButtonEl =\n",
              "        document.querySelector('#df-a0d7c7bd-5b7c-48db-89e7-094e3b897865 button');\n",
              "      quickchartButtonEl.style.display =\n",
              "        google.colab.kernel.accessAllowed ? 'block' : 'none';\n",
              "    })();\n",
              "  </script>\n",
              "</div>\n",
              "\n",
              "    </div>\n",
              "  </div>\n"
            ],
            "application/vnd.google.colaboratory.intrinsic+json": {
              "type": "dataframe",
              "summary": "{\n  \"name\": \"df\",\n  \"rows\": 8,\n  \"fields\": [\n    {\n      \"column\": \"Habitaciones\",\n      \"properties\": {\n        \"dtype\": \"number\",\n        \"std\": 94.70613726441732,\n        \"min\": 1.0,\n        \"max\": 272.0,\n        \"num_unique_values\": 7,\n        \"samples\": [\n          272.0,\n          2.6654411764705883,\n          3.0\n        ],\n        \"semantic_type\": \"\",\n        \"description\": \"\"\n      }\n    },\n    {\n      \"column\": \"Ba\\u00f1os\",\n      \"properties\": {\n        \"dtype\": \"number\",\n        \"std\": 94.9450874549738,\n        \"min\": 1.0,\n        \"max\": 271.0,\n        \"num_unique_values\": 7,\n        \"samples\": [\n          271.0,\n          2.3837638376383765,\n          3.0\n        ],\n        \"semantic_type\": \"\",\n        \"description\": \"\"\n      }\n    },\n    {\n      \"column\": \"Estrato\",\n      \"properties\": {\n        \"dtype\": \"number\",\n        \"std\": 95.43266022244003,\n        \"min\": 1.0428123295257108,\n        \"max\": 274.0,\n        \"num_unique_values\": 7,\n        \"samples\": [\n          274.0,\n          4.817518248175182,\n          5.0\n        ],\n        \"semantic_type\": \"\",\n        \"description\": \"\"\n      }\n    },\n    {\n      \"column\": \"Administraci\\u00f3n\",\n      \"properties\": {\n        \"dtype\": \"number\",\n        \"std\": 817695.1084818149,\n        \"min\": 1.0,\n        \"max\": 2500000.0,\n        \"num_unique_values\": 8,\n        \"samples\": [\n          391809.7688442211,\n          311000.0,\n          199.0\n        ],\n        \"semantic_type\": \"\",\n        \"description\": \"\"\n      }\n    },\n    {\n      \"column\": \"Precio m\\u00b2\",\n      \"properties\": {\n        \"dtype\": \"number\",\n        \"std\": 260513073180.93036,\n        \"min\": 274.0,\n        \"max\": 742574257426.0,\n        \"num_unique_values\": 8,\n        \"samples\": [\n          3101542941.2043796,\n          434408602.0,\n          274.0\n        ],\n        \"semantic_type\": \"\",\n        \"description\": \"\"\n      }\n    },\n    {\n      \"column\": \"Parqueaderos\",\n      \"properties\": {\n        \"dtype\": \"number\",\n        \"std\": 74.35346374963693,\n        \"min\": 0.6766866746023374,\n        \"max\": 212.0,\n        \"num_unique_values\": 6,\n        \"samples\": [\n          212.0,\n          1.4575471698113207,\n          5.0\n        ],\n        \"semantic_type\": \"\",\n        \"description\": \"\"\n      }\n    },\n    {\n      \"column\": \"Precio\",\n      \"properties\": {\n        \"dtype\": \"number\",\n        \"std\": 526315506010.0292,\n        \"min\": 274.0,\n        \"max\": 1500000000000.0,\n        \"num_unique_values\": 8,\n        \"samples\": [\n          5975466058.39416,\n          416000000.0,\n          274.0\n        ],\n        \"semantic_type\": \"\",\n        \"description\": \"\"\n      }\n    },\n    {\n      \"column\": \"\\u00c1rea constru\\u00edda (m\\u00b2)\",\n      \"properties\": {\n        \"dtype\": \"number\",\n        \"std\": 4352.360120927796,\n        \"min\": 28.0,\n        \"max\": 12597.0,\n        \"num_unique_values\": 8,\n        \"samples\": [\n          424.3138686131387,\n          86.0,\n          274.0\n        ],\n        \"semantic_type\": \"\",\n        \"description\": \"\"\n      }\n    },\n    {\n      \"column\": \"\\u00c1rea privada (m\\u00b2)\",\n      \"properties\": {\n        \"dtype\": \"number\",\n        \"std\": 2783.4277441379418,\n        \"min\": 0.0,\n        \"max\": 8023.0,\n        \"num_unique_values\": 7,\n        \"samples\": [\n          274.0,\n          122.63868613138686,\n          98.0\n        ],\n        \"semantic_type\": \"\",\n        \"description\": \"\"\n      }\n    }\n  ]\n}"
            }
          },
          "metadata": {},
          "execution_count": 6
        }
      ]
    },
    {
      "cell_type": "code",
      "source": [
        "df_filtered = df.dropna(subset=[\"Estrato\", \"Precio\"])\n",
        "\n",
        "# Aplicar ANOVA para comparar medias de precios entre estratos\n",
        "anova_test = stats.f_oneway(\n",
        "    *[df_filtered[df_filtered[\"Estrato\"] == e][\"Precio\"] for e in df_filtered[\"Estrato\"].unique()]\n",
        ")\n",
        "\n",
        "print(\"Estadístico ANOVA:\", anova_test.statistic)\n",
        "print(\"p-valor:\", anova_test.pvalue)"
      ],
      "metadata": {
        "colab": {
          "base_uri": "https://localhost:8080/"
        },
        "id": "idNlx8fxeFBn",
        "outputId": "0994c56c-f7ef-4019-8428-29ca690e4230"
      },
      "execution_count": 29,
      "outputs": [
        {
          "output_type": "stream",
          "name": "stdout",
          "text": [
            "Estadístico ANOVA: 0.6345149663851208\n",
            "p-valor: 0.6382855722325034\n"
          ]
        }
      ]
    },
    {
      "cell_type": "code",
      "source": [
        "df_filtered = df.dropna(subset=[\"Estrato\", \"Precio\",\"Banos\", \"AreaConstruida\",\"Habitaciones\",\"Parqueaderos\",\"Administración\"])"
      ],
      "metadata": {
        "id": "9rXtwehJe2CS"
      },
      "execution_count": 101,
      "outputs": []
    },
    {
      "cell_type": "code",
      "source": [
        "\n",
        "shapiro_test = stats.shapiro(df_filtered[\"Precio\"])\n",
        "print(\"Estadístico Shapiro-Wilk:\", shapiro_test.statistic)\n",
        "print(\"p-valor:\", shapiro_test.pvalue)"
      ],
      "metadata": {
        "colab": {
          "base_uri": "https://localhost:8080/"
        },
        "id": "jrINq18oe6Jc",
        "outputId": "8b1371c1-7c87-46c4-abf0-eabfc503b361"
      },
      "execution_count": 102,
      "outputs": [
        {
          "output_type": "stream",
          "name": "stdout",
          "text": [
            "Estadístico Shapiro-Wilk: 0.0515706055511137\n",
            "p-valor: 2.8532510654733807e-28\n"
          ]
        }
      ]
    },
    {
      "cell_type": "code",
      "source": [
        "kruskal_test = stats.kruskal(\n",
        "    *[df_filtered[df_filtered[\"Estrato\"] == e][\"Precio\"] for e in df_filtered[\"Estrato\"].unique()]\n",
        ")\n",
        "print(\"Estadístico Kruskal-Wallis:\", kruskal_test.statistic)\n",
        "print(\"p-valor:\", kruskal_test.pvalue)\n",
        "print(\"p-valor:\", kruskal_test.pvalue)\n"
      ],
      "metadata": {
        "colab": {
          "base_uri": "https://localhost:8080/"
        },
        "id": "Tss2conLgOYp",
        "outputId": "20034402-28b2-4962-83d2-97d20840fb22"
      },
      "execution_count": 107,
      "outputs": [
        {
          "output_type": "stream",
          "name": "stdout",
          "text": [
            "Estadístico Kruskal-Wallis: 71.65480936213402\n",
            "p-valor: 1.8873717251746308e-15\n",
            "p-valor: 1.8873717251746308e-15\n"
          ]
        }
      ]
    },
    {
      "cell_type": "code",
      "source": [
        "\n",
        "plt.figure(figsize=(10,6))\n",
        "sns.boxplot(x=\"Estrato\", y=\"Precio\", data=df_filtered)\n",
        "plt.yscale(\"log\")  # Escala logarítmica para mejor visualización\n",
        "plt.xlabel(\"Estrato Socioeconómico\")\n",
        "plt.ylabel(\"Precio (log)\")\n",
        "plt.title(\"Distribución del Precio de Viviendas por Estrato\")\n",
        "plt.grid(True)\n",
        "plt.show()\n"
      ],
      "metadata": {
        "colab": {
          "base_uri": "https://localhost:8080/",
          "height": 565
        },
        "id": "BVu2Zy_lgg_i",
        "outputId": "54b39d38-f4e0-4417-e2a9-d16c6d8844c2"
      },
      "execution_count": 33,
      "outputs": [
        {
          "output_type": "display_data",
          "data": {
            "text/plain": [
              "<Figure size 1000x600 with 1 Axes>"
            ],
            "image/png": "[encoded data removed]"
          },
          "metadata": {}
        }
      ]
    },
    {
      "cell_type": "code",
      "source": [
        "import pandas as pd\n",
        "import numpy as np\n",
        "import scipy.stats as stats\n",
        "import matplotlib.pyplot as plt\n",
        "import seaborn as sns\n",
        "from sklearn.model_selection import train_test_split\n",
        "from sklearn.linear_model import LinearRegression, LogisticRegression\n",
        "from sklearn.metrics import mean_squared_error, r2_score, accuracy_score\n",
        "from sklearn.preprocessing import StandardScaler"
      ],
      "metadata": {
        "id": "qo757HoSmT_q"
      },
      "execution_count": 34,
      "outputs": []
    },
    {
      "cell_type": "code",
      "source": [
        "features = [\"Habitaciones\", \"Banos\", \"AreaConstruida\"]\n",
        "target = \"Precio\"\n"
      ],
      "metadata": {
        "id": "EDOc9CBimVpL"
      },
      "execution_count": 75,
      "outputs": []
    },
    {
      "cell_type": "code",
      "source": [
        "df_filtered = df.dropna(subset=features + [target])\n",
        "\n",
        "# Datos en entrenamiento (70%) y prueba (30%)\n",
        "X_train, X_test, y_train, y_test = train_test_split(\n",
        "    df_filtered[features], df_filtered[target], test_size=0.3, random_state=42\n",
        ")"
      ],
      "metadata": {
        "id": "EI7Ob647njH7"
      },
      "execution_count": 76,
      "outputs": []
    },
    {
      "cell_type": "code",
      "source": [
        "\n",
        "model = LinearRegression()\n",
        "model.fit(X_train, y_train)\n",
        "coef = model.coef_\n",
        "intercept = model.intercept_\n",
        "\n",
        "y_pred = model.predict(X_test)\n"
      ],
      "metadata": {
        "id": "nDuJJ913nmVo"
      },
      "execution_count": 77,
      "outputs": []
    },
    {
      "cell_type": "code",
      "source": [
        "pip install dash"
      ],
      "metadata": {
        "colab": {
          "base_uri": "https://localhost:8080/"
        },
        "id": "NzK_qXZ7nde9",
        "outputId": "07c11c63-1a8c-41f1-d116-3472db1b9318"
      },
      "execution_count": 16,
      "outputs": [
        {
          "output_type": "stream",
          "name": "stdout",
          "text": [
            "Collecting dash\n",
            "  Downloading dash-3.0.1-py3-none-any.whl.metadata (10 kB)\n",
            "Collecting Flask<3.1,>=1.0.4 (from dash)\n",
            "  Downloading flask-3.0.3-py3-none-any.whl.metadata (3.2 kB)\n",
            "Collecting Werkzeug<3.1 (from dash)\n",
            "  Downloading werkzeug-3.0.6-py3-none-any.whl.metadata (3.7 kB)\n",
            "Requirement already satisfied: plotly>=5.0.0 in /usr/local/lib/python3.11/dist-packages (from dash) (5.24.1)\n",
            "Requirement already satisfied: importlib-metadata in /usr/local/lib/python3.11/dist-packages (from dash) (8.6.1)\n",
            "Requirement already satisfied: typing-extensions>=4.1.1 in /usr/local/lib/python3.11/dist-packages (from dash) (4.12.2)\n",
            "Requirement already satisfied: requests in /usr/local/lib/python3.11/dist-packages (from dash) (2.32.3)\n",
            "Collecting retrying (from dash)\n",
            "  Downloading retrying-1.3.4-py3-none-any.whl.metadata (6.9 kB)\n",
            "Requirement already satisfied: nest-asyncio in /usr/local/lib/python3.11/dist-packages (from dash) (1.6.0)\n",
            "Requirement already satisfied: setuptools in /usr/local/lib/python3.11/dist-packages (from dash) (75.1.0)\n",
            "Requirement already satisfied: Jinja2>=3.1.2 in /usr/local/lib/python3.11/dist-packages (from Flask<3.1,>=1.0.4->dash) (3.1.6)\n",
            "Requirement already satisfied: itsdangerous>=2.1.2 in /usr/local/lib/python3.11/dist-packages (from Flask<3.1,>=1.0.4->dash) (2.2.0)\n",
            "Requirement already satisfied: click>=8.1.3 in /usr/local/lib/python3.11/dist-packages (from Flask<3.1,>=1.0.4->dash) (8.1.8)\n",
            "Requirement already satisfied: blinker>=1.6.2 in /usr/local/lib/python3.11/dist-packages (from Flask<3.1,>=1.0.4->dash) (1.9.0)\n",
            "Requirement already satisfied: tenacity>=6.2.0 in /usr/local/lib/python3.11/dist-packages (from plotly>=5.0.0->dash) (9.0.0)\n",
            "Requirement already satisfied: packaging in /usr/local/lib/python3.11/dist-packages (from plotly>=5.0.0->dash) (24.2)\n",
            "Requirement already satisfied: MarkupSafe>=2.1.1 in /usr/local/lib/python3.11/dist-packages (from Werkzeug<3.1->dash) (3.0.2)\n",
            "Requirement already satisfied: zipp>=3.20 in /usr/local/lib/python3.11/dist-packages (from importlib-metadata->dash) (3.21.0)\n",
            "Requirement already satisfied: charset-normalizer<4,>=2 in /usr/local/lib/python3.11/dist-packages (from requests->dash) (3.4.1)\n",
            "Requirement already satisfied: idna<4,>=2.5 in /usr/local/lib/python3.11/dist-packages (from requests->dash) (3.10)\n",
            "Requirement already satisfied: urllib3<3,>=1.21.1 in /usr/local/lib/python3.11/dist-packages (from requests->dash) (2.3.0)\n",
            "Requirement already satisfied: certifi>=2017.4.17 in /usr/local/lib/python3.11/dist-packages (from requests->dash) (2025.1.31)\n",
            "Requirement already satisfied: six>=1.7.0 in /usr/local/lib/python3.11/dist-packages (from retrying->dash) (1.17.0)\n",
            "Downloading dash-3.0.1-py3-none-any.whl (8.0 MB)\n",
            "\u001b[2K   \u001b[90m━━━━━━━━━━━━━━━━━━━━━━━━━━━━━━━━━━━━━━━━\u001b[0m \u001b[32m8.0/8.0 MB\u001b[0m \u001b[31m84.7 MB/s\u001b[0m eta \u001b[36m0:00:00\u001b[0m\n",
            "\u001b[?25hDownloading flask-3.0.3-py3-none-any.whl (101 kB)\n",
            "\u001b[2K   \u001b[90m━━━━━━━━━━━━━━━━━━━━━━━━━━━━━━━━━━━━━━━━\u001b[0m \u001b[32m101.7/101.7 kB\u001b[0m \u001b[31m7.8 MB/s\u001b[0m eta \u001b[36m0:00:00\u001b[0m\n",
            "\u001b[?25hDownloading werkzeug-3.0.6-py3-none-any.whl (227 kB)\n",
            "\u001b[2K   \u001b[90m━━━━━━━━━━━━━━━━━━━━━━━━━━━━━━━━━━━━━━━━\u001b[0m \u001b[32m228.0/228.0 kB\u001b[0m \u001b[31m16.0 MB/s\u001b[0m eta \u001b[36m0:00:00\u001b[0m\n",
            "\u001b[?25hDownloading retrying-1.3.4-py3-none-any.whl (11 kB)\n",
            "Installing collected packages: Werkzeug, retrying, Flask, dash\n",
            "  Attempting uninstall: Werkzeug\n",
            "    Found existing installation: Werkzeug 3.1.3\n",
            "    Uninstalling Werkzeug-3.1.3:\n",
            "      Successfully uninstalled Werkzeug-3.1.3\n",
            "  Attempting uninstall: Flask\n",
            "    Found existing installation: Flask 3.1.0\n",
            "    Uninstalling Flask-3.1.0:\n",
            "      Successfully uninstalled Flask-3.1.0\n",
            "Successfully installed Flask-3.0.3 Werkzeug-3.0.6 dash-3.0.1 retrying-1.3.4\n"
          ]
        }
      ]
    },
    {
      "cell_type": "code",
      "source": [],
      "metadata": {
        "id": "hyzNAVZ8eUBW"
      },
      "execution_count": null,
      "outputs": []
    },
    {
      "cell_type": "code",
      "source": [
        "mse = mean_squared_error(y_test, y_pred)\n",
        "r2 = r2_score(y_test, y_pred)\n"
      ],
      "metadata": {
        "id": "6ueB41DnnrFM"
      },
      "execution_count": 79,
      "outputs": []
    },
    {
      "cell_type": "code",
      "source": [
        "print(\"Coeficientes:\", coef)\n",
        "print(\"Intercepto:\", intercept)\n",
        "print(\"MSE:\", mse)\n",
        "print(\"R²:\", r2)\n"
      ],
      "metadata": {
        "colab": {
          "base_uri": "https://localhost:8080/"
        },
        "id": "5e1RZES2nt67",
        "outputId": "9628460d-3830-47b6-f630-b1419a8dde22"
      },
      "execution_count": 80,
      "outputs": [
        {
          "output_type": "stream",
          "name": "stdout",
          "text": [
            "Coeficientes: [-3.47604377e+09  1.87764609e+10 -9.13548806e+05]\n",
            "Intercepto: -26816691745.336994\n",
            "MSE: 3.0088645110169725e+20\n",
            "R²: -2510.4208306215746\n"
          ]
        }
      ]
    },
    {
      "cell_type": "code",
      "source": [
        "X = df_filtered[features]\n",
        "vif_data = pd.DataFrame()\n",
        "vif_data[\"Variable\"] = X.columns\n",
        "vif_data[\"VIF\"] = [variance_inflation_factor(X.values, i) for i in range(X.shape[1])]\n",
        "print(\"VIF después de eliminación de variables:\")\n",
        "print(vif_data)"
      ],
      "metadata": {
        "colab": {
          "base_uri": "https://localhost:8080/"
        },
        "id": "ssvn3230pIVd",
        "outputId": "114862c2-e977-4ed5-903c-a9e678fa0e8a"
      },
      "execution_count": 81,
      "outputs": [
        {
          "output_type": "stream",
          "name": "stdout",
          "text": [
            "VIF después de eliminación de variables:\n",
            "         Variable       VIF\n",
            "0    Habitaciones  4.596384\n",
            "1           Banos  4.570385\n",
            "2  AreaConstruida  1.060925\n"
          ]
        }
      ]
    },
    {
      "cell_type": "code",
      "source": [
        "# Asegúrate de trabajar sobre una copia del DataFrame\n",
        "df_filtered = df_filtered.copy()\n",
        "\n",
        "# Calcular el logaritmo del precio\n",
        "df_filtered['Log_Precio'] = np.log(df_filtered['Precio'])\n",
        "\n",
        "# Escalar las variables predictoras\n",
        "scaler = StandardScaler()\n",
        "X_scaled = scaler.fit_transform(df_filtered[features])\n",
        "\n",
        "# Dividir en entrenamiento y prueba\n",
        "from sklearn.model_selection import train_test_split\n",
        "X_train, X_test, y_train, y_test = train_test_split(\n",
        "    X_scaled, df_filtered[\"Log_Precio\"], test_size=0.3, random_state=42\n",
        ")\n"
      ],
      "metadata": {
        "id": "0wbGgdWuq5db"
      },
      "execution_count": 85,
      "outputs": []
    },
    {
      "cell_type": "code",
      "source": [
        "df_filtered = df_filtered.copy()\n",
        "df_filtered.loc[:, \"Estrato_binario\"] = df_filtered[\"Estrato\"].apply(lambda x: 1 if x >= 5 else 0)\n",
        "\n",
        "# Seleccionar variable continua y variable categórica\n",
        "X_logistic = df_filtered[[\"AreaConstruida\"]]\n",
        "y_logistic = df_filtered[\"Estrato_binario\"]\n",
        "#\"Banos\", \"AreaConstruida\"\n",
        "# Escalar la variable predictora\n",
        "scaler = StandardScaler()\n",
        "X_logistic_scaled = scaler.fit_transform(X_logistic)\n",
        "\n",
        "# División de datos en entrenamiento (70%) y prueba (30%)\n",
        "X_train_logistic, X_test_logistic, y_train_logistic, y_test_logistic = train_test_split(\n",
        "    X_logistic_scaled, y_logistic, test_size=0.3, random_state=42\n",
        ")\n",
        "\n",
        "# Crear y entrenar el modelo de regresión logística\n",
        "model_logistic = LogisticRegression(C=1.0, solver='lbfgs')\n",
        "model_logistic.fit(X_train_logistic, y_train_logistic)\n",
        "\n",
        "# Obtener coeficientes e intercepto\n",
        "coef_logistic = model_logistic.coef_\n",
        "intercept_logistic = model_logistic.intercept_\n",
        "\n",
        "print(\"Coeficientes:\", coef_logistic)\n",
        "print(\"Intercepto:\", intercept_logistic)"
      ],
      "metadata": {
        "colab": {
          "base_uri": "https://localhost:8080/"
        },
        "id": "KdvkT8CCsNF6",
        "outputId": "9daddbef-6eac-4f6a-e508-bc05602f7a6e"
      },
      "execution_count": 97,
      "outputs": [
        {
          "output_type": "stream",
          "name": "stdout",
          "text": [
            "Coeficientes: [[-0.01232626]]\n",
            "Intercepto: [0.39653134]\n"
          ]
        }
      ]
    },
    {
      "cell_type": "code",
      "source": [
        "\n",
        "# Crear variable binaria: Estrato alto (5-6) vs. Estrato bajo (1-4)\n",
        "df_filtered = df_filtered.copy()\n",
        "df_filtered.loc[:, \"Estrato_binario\"] = df_filtered[\"Estrato\"].apply(lambda x: 1 if x >= 5 else 0)\n",
        "\n",
        "# Seleccionar variables predictoras\n",
        "features_logistic = [\"AreaConstruida\", \"Habitaciones\", \"Banos\", \"Precio\"]\n",
        "X_logistic = df_filtered[features_logistic]\n",
        "y_logistic = df_filtered[\"Estrato_binario\"]\n",
        "\n",
        "# Escalar las variables predictoras\n",
        "scaler = StandardScaler()\n",
        "X_logistic_scaled = scaler.fit_transform(X_logistic)\n",
        "\n",
        "# División de datos en entrenamiento (70%) y prueba (30%)\n",
        "X_train_logistic, X_test_logistic, y_train_logistic, y_test_logistic = train_test_split(\n",
        "    X_logistic_scaled, y_logistic, test_size=0.3, random_state=42\n",
        ")\n",
        "\n",
        "best_accuracy = 0\n",
        "best_model = None\n",
        "best_c = None\n",
        "\n",
        "for c in [0.1, 1.0, 10.0]:\n",
        "    model_logistic = LogisticRegression(C=c, solver='liblinear')\n",
        "    model_logistic.fit(X_train_logistic, y_train_logistic)\n",
        "    acc = model_logistic.score(X_test_logistic, y_test_logistic)\n",
        "    print(f\"C={c}, Precisión={acc}\")\n",
        "    if acc > best_accuracy:\n",
        "        best_accuracy = acc\n",
        "        best_model = model_logistic\n",
        "        best_c = c\n",
        "\n",
        "print(f\"Mejor modelo con C={best_c}, Precisión={best_accuracy}\")"
      ],
      "metadata": {
        "colab": {
          "base_uri": "https://localhost:8080/"
        },
        "id": "Q2Db65hptmE1",
        "outputId": "d6e9220f-5f3d-4355-d42d-99180db383b2"
      },
      "execution_count": 89,
      "outputs": [
        {
          "output_type": "stream",
          "name": "stdout",
          "text": [
            "C=0.1, Precisión=0.6829268292682927\n",
            "C=1.0, Precisión=0.6219512195121951\n",
            "C=10.0, Precisión=0.6219512195121951\n",
            "Mejor modelo con C=0.1, Precisión=0.6829268292682927\n"
          ]
        }
      ]
    },
    {
      "cell_type": "code",
      "source": [
        "y_pred_logistic = best_model.predict(X_test_logistic)\n",
        "y_prob_logistic = best_model.predict_proba(X_test_logistic)[:, 1]\n",
        "\n",
        "# Evaluar precisión y métricas adicionales\n",
        "accuracy = accuracy_score(y_test_logistic, y_pred_logistic)\n",
        "conf_matrix = confusion_matrix(y_test_logistic, y_pred_logistic)\n",
        "class_report = classification_report(y_test_logistic, y_pred_logistic)\n",
        "\n",
        "print(\"Precisión del modelo mejorado:\", accuracy)\n",
        "print(\"Matriz de confusión:\\n\", conf_matrix)\n",
        "print(\"Reporte de clasificación:\\n\", class_report)"
      ],
      "metadata": {
        "id": "iFXOg-Rr3Bxr",
        "outputId": "0ec8b237-5454-4481-a936-40e9cd0929ba",
        "colab": {
          "base_uri": "https://localhost:8080/"
        }
      },
      "execution_count": 90,
      "outputs": [
        {
          "output_type": "stream",
          "name": "stdout",
          "text": [
            "Precisión del modelo mejorado: 0.6829268292682927\n",
            "Matriz de confusión:\n",
            " [[ 8 21]\n",
            " [ 5 48]]\n",
            "Reporte de clasificación:\n",
            "               precision    recall  f1-score   support\n",
            "\n",
            "           0       0.62      0.28      0.38        29\n",
            "           1       0.70      0.91      0.79        53\n",
            "\n",
            "    accuracy                           0.68        82\n",
            "   macro avg       0.66      0.59      0.58        82\n",
            "weighted avg       0.67      0.68      0.64        82\n",
            "\n"
          ]
        }
      ]
    },
    {
      "cell_type": "code",
      "source": [
        "from sklearn.ensemble import RandomForestRegressor\n",
        "from sklearn.metrics import mean_squared_error, r2_score\n",
        "\n",
        "# Modelo\n",
        "rf_model = RandomForestRegressor(n_estimators=100, random_state=42)\n",
        "rf_model.fit(X_train, y_train)\n",
        "\n",
        "# Predicciones\n",
        "y_pred_rf = rf_model.predict(X_test)\n",
        "\n",
        "# Evaluación\n",
        "mse_rf = mean_squared_error(y_test, y_pred_rf)\n",
        "r2_rf = r2_score(y_test, y_pred_rf)\n",
        "\n",
        "# Importancia de variables\n",
        "importancia = dict(zip(features, rf_model.feature_importances_))\n",
        "\n",
        "print(f\"MSE: {mse_rf:.4f}\")\n",
        "print(f\"R²: {r2_rf:.4f}\")\n",
        "print(\"Importancia de variables:\")\n",
        "for var, imp in importancia.items():\n",
        "    print(f\"  - {var}: {imp:.2%}\")\n"
      ],
      "metadata": {
        "colab": {
          "base_uri": "https://localhost:8080/"
        },
        "id": "sFIwy1SkcKbu",
        "outputId": "a2425531-ee1b-4880-de7b-5f07d2a57057"
      },
      "execution_count": 91,
      "outputs": [
        {
          "output_type": "stream",
          "name": "stdout",
          "text": [
            "MSE: 0.1314\n",
            "R²: 0.5214\n",
            "Importancia de variables:\n",
            "  - Habitaciones: 7.61%\n",
            "  - Banos: 29.73%\n",
            "  - AreaConstruida: 62.66%\n"
          ]
        }
      ]
    },
    {
      "cell_type": "code",
      "source": [
        "from sklearn.linear_model import LogisticRegression\n",
        "from sklearn.model_selection import GridSearchCV\n",
        "from sklearn.metrics import (accuracy_score, confusion_matrix, classification_report,\n",
        "                             roc_curve, auc)\n",
        "\n",
        "df_filtered = df.dropna(subset=[\"Habitaciones\", \"Banos\", \"AreaConstruida\", \"Precio\", \"Estrato\"]).copy()\n",
        "\n",
        "\n",
        "df_filtered.loc[:, \"Estrato_binario\"] = df_filtered[\"Estrato\"].apply(lambda x: 1 if x >= 5 else 0)\n",
        "\n",
        "# Seleccionar variables predictoras y variable objetivo\n",
        "features_logistic = [\"AreaConstruida\", \"Habitaciones\", \"Banos\", \"Precio\"]\n",
        "X_logistic = df_filtered[features_logistic]\n",
        "y_logistic = df_filtered[\"Estrato_binario\"]\n",
        "\n",
        "# Escalar las variables predictoras\n",
        "scaler = StandardScaler()\n",
        "X_logistic_scaled = scaler.fit_transform(X_logistic)\n",
        "\n",
        "# División de datos en entrenamiento (70%) y prueba (30%)\n",
        "X_train_logistic, X_test_logistic, y_train_logistic, y_test_logistic = train_test_split(\n",
        "    X_logistic_scaled, y_logistic, test_size=0.3, random_state=42\n",
        ")\n",
        "\n",
        "# --- 2. Optimización del Modelo con GridSearchCV ---\n",
        "param_grid = {'C': [0.01, 0.1, 1.0, 10.0, 100.0], 'solver': ['liblinear']}\n",
        "grid = GridSearchCV(LogisticRegression(), param_grid, cv=5, scoring='accuracy')\n",
        "grid.fit(X_train_logistic, y_train_logistic)\n",
        "\n",
        "print(\"Mejor hiperparámetro:\", grid.best_params_)\n",
        "print(\"Mejor score (validación cruzada):\", grid.best_score_)\n",
        "\n",
        "# Seleccionar el mejor modelo\n",
        "best_model = grid.best_estimator_\n",
        "\n",
        "y_pred_logistic = best_model.predict(X_test_logistic)\n",
        "y_prob_logistic = best_model.predict_proba(X_test_logistic)[:, 1]\n",
        "\n",
        "accuracy = accuracy_score(y_test_logistic, y_pred_logistic)\n",
        "conf_matrix = confusion_matrix(y_test_logistic, y_pred_logistic)\n",
        "class_report = classification_report(y_test_logistic, y_pred_logistic)\n",
        "\n",
        "print(\"Precisión del modelo mejorado:\", accuracy)\n",
        "print(\"Matriz de confusión:\\n\", conf_matrix)\n",
        "print(\"Reporte de clasificación:\\n\", class_report)\n",
        "\n",
        "\n",
        "fpr, tpr, thresholds = roc_curve(y_test_logistic, y_prob_logistic)\n",
        "roc_auc = auc(fpr, tpr)\n",
        "\n",
        "plt.figure(figsize=(8, 6))\n",
        "plt.plot(fpr, tpr, color='darkorange', lw=2, label=f'ROC curve (AUC = {roc_auc:.2f})')\n",
        "plt.plot([0, 1], [0, 1], color='navy', lw=2, linestyle='--')\n",
        "plt.xlim([0.0, 1.0])\n",
        "plt.ylim([0.0, 1.05])\n",
        "plt.xlabel('Tasa de Falsos Positivos')\n",
        "plt.ylabel('Tasa de Verdaderos Positivos')\n",
        "plt.title('Curva ROC - Modelo de Regresión Logística Mejorado')\n",
        "plt.legend(loc=\"lower right\")\n",
        "plt.grid(True)\n",
        "plt.tight_layout()\n",
        "plt.show()"
      ],
      "metadata": {
        "colab": {
          "base_uri": "https://localhost:8080/",
          "height": 885
        },
        "id": "nn0HqIfxg7qU",
        "outputId": "c1c45559-4c3a-4e3b-e925-9c48d64e2f80"
      },
      "execution_count": 100,
      "outputs": [
        {
          "output_type": "stream",
          "name": "stdout",
          "text": [
            "Mejor hiperparámetro: {'C': 0.01, 'solver': 'liblinear'}\n",
            "Mejor score (validación cruzada): 0.6294452347083926\n",
            "Precisión del modelo mejorado: 0.6951219512195121\n",
            "Matriz de confusión:\n",
            " [[ 8 21]\n",
            " [ 4 49]]\n",
            "Reporte de clasificación:\n",
            "               precision    recall  f1-score   support\n",
            "\n",
            "           0       0.67      0.28      0.39        29\n",
            "           1       0.70      0.92      0.80        53\n",
            "\n",
            "    accuracy                           0.70        82\n",
            "   macro avg       0.68      0.60      0.59        82\n",
            "weighted avg       0.69      0.70      0.65        82\n",
            "\n"
          ]
        },
        {
          "output_type": "display_data",
          "data": {
            "text/plain": [
              "<Figure size 800x600 with 1 Axes>"
            ],
            "image/png": "[encoded data removed]"
          },
          "metadata": {}
        }
      ]
    },
    {
      "cell_type": "code",
      "source": [
        "import numpy as np\n",
        "import pandas as pd\n",
        "import matplotlib.pyplot as plt\n",
        "from sklearn.linear_model import LogisticRegression\n",
        "from sklearn.preprocessing import StandardScaler\n",
        "from sklearn.model_selection import train_test_split, GridSearchCV\n",
        "from sklearn.metrics import (accuracy_score, confusion_matrix, classification_report,\n",
        "                             roc_curve, auc)\n",
        "\n",
        "df = pd.read_csv(\"/houses_medellin_cleaned.csv\")\n",
        "\n",
        "df.rename(columns={\n",
        "    'Baños': 'Banos',\n",
        "    'Área construída (m²)': 'AreaConstruida',\n",
        "    'Administración': 'Administracion'\n",
        "}, inplace=True)\n",
        "\n",
        "features_logistic = [\"AreaConstruida\", \"Habitaciones\", \"Banos\", \"Precio\", \"Parqueaderos\", \"Administracion\"]\n",
        "target = \"Estrato\"\n",
        "df_filtered = df.dropna(subset=features_logistic + [target]).copy()\n",
        "\n",
        "df_filtered.loc[:, \"Estrato_binario\"] = df_filtered[\"Estrato\"].apply(lambda x: 1 if x >= 5 else 0)\n",
        "\n",
        "\n",
        "X = df_filtered[features_logistic]\n",
        "y = df_filtered[\"Estrato_binario\"]\n",
        "\n",
        "scaler = StandardScaler()\n",
        "X_scaled = scaler.fit_transform(X)\n",
        "\n",
        "\n",
        "X_train, X_test, y_train, y_test = train_test_split(X_scaled, y, test_size=0.3, random_state=42)\n",
        "\n",
        "\n",
        "param_grid = {'C': [0.01, 0.1, 1.0, 10.0, 100.0], 'solver': ['liblinear']}\n",
        "grid = GridSearchCV(LogisticRegression(), param_grid, cv=5, scoring='accuracy')\n",
        "grid.fit(X_train, y_train)\n",
        "\n",
        "print(\"Mejor hiperparámetro:\", grid.best_params_)\n",
        "print(\"Mejor score (validación cruzada):\", grid.best_score_)\n",
        "\n",
        "best_model = grid.best_estimator_\n",
        "\n",
        "y_pred = best_model.predict(X_test)\n",
        "y_prob = best_model.predict_proba(X_test)[:, 1]\n",
        "\n",
        "accuracy_val = accuracy_score(y_test, y_pred)\n",
        "conf_matrix = confusion_matrix(y_test, y_pred)\n",
        "class_report = classification_report(y_test, y_pred)\n",
        "\n",
        "print(\"Precisión del modelo:\", accuracy_val)\n",
        "print(\"Matriz de confusión:\\n\", conf_matrix)\n",
        "print(\"Reporte de clasificación:\\n\", class_report)\n",
        "\n",
        "fpr, tpr, thresholds = roc_curve(y_test, y_prob)\n",
        "roc_auc = auc(fpr, tpr)\n",
        "\n",
        "plt.figure(figsize=(8, 6))\n",
        "plt.plot(fpr, tpr, color='darkorange', lw=2, label=f'ROC curve (AUC = {roc_auc:.2f})')\n",
        "plt.plot([0, 1], [0, 1], color='navy', lw=2, linestyle='--')\n",
        "plt.xlim([0.0, 1.0])\n",
        "plt.ylim([0.0, 1.05])\n",
        "plt.xlabel(\"Tasa de Falsos Positivos\")\n",
        "plt.ylabel(\"Tasa de Verdaderos Positivos\")\n",
        "plt.title(\"Curva ROC - Regresión Logística Multivariada\")\n",
        "plt.legend(loc=\"lower right\")\n",
        "plt.grid(True)\n",
        "plt.tight_layout()\n",
        "plt.show()\n"
      ],
      "metadata": {
        "colab": {
          "base_uri": "https://localhost:8080/",
          "height": 885
        },
        "id": "Gm6hRQHSpVjM",
        "outputId": "623693d6-837d-4b95-c3f0-6c743351db1d"
      },
      "execution_count": 109,
      "outputs": [
        {
          "output_type": "stream",
          "name": "stdout",
          "text": [
            "Mejor hiperparámetro: {'C': 1.0, 'solver': 'liblinear'}\n",
            "Mejor score (validación cruzada): 0.7713768115942029\n",
            "Precisión del modelo: 0.7647058823529411\n",
            "Matriz de confusión:\n",
            " [[ 1  9]\n",
            " [ 3 38]]\n",
            "Reporte de clasificación:\n",
            "               precision    recall  f1-score   support\n",
            "\n",
            "           0       0.25      0.10      0.14        10\n",
            "           1       0.81      0.93      0.86        41\n",
            "\n",
            "    accuracy                           0.76        51\n",
            "   macro avg       0.53      0.51      0.50        51\n",
            "weighted avg       0.70      0.76      0.72        51\n",
            "\n"
          ]
        },
        {
          "output_type": "display_data",
          "data": {
            "text/plain": [
              "<Figure size 800x600 with 1 Axes>"
            ],
            "image/png": "[encoded data removed]"
          },
          "metadata": {}
        }
      ]
    },
    {
      "cell_type": "code",
      "source": [
        "import dash\n",
        "from dash import dcc, html, Input, Output, dash_table\n",
        "import pandas as pd\n",
        "import plotly.express as px\n",
        "\n",
        "# Cargar datos\n",
        "df = pd.read_csv(\"/houses_medellin_cleaned.csv\")\n",
        "\n",
        "# Renombrar columnas para uso consistente\n",
        "df.rename(columns={\n",
        "    'Área construída (m²)': 'AreaConstruida',\n",
        "    'Baños': 'Banos',\n",
        "    'Administración': 'Administracion'\n",
        "}, inplace=True)\n",
        "\n",
        "app = dash.Dash(__name__)\n",
        "server = app.server\n",
        "\n",
        "def filter_by_group(df, variable):\n",
        "    \"\"\"\n",
        "    Filtra el DataFrame eliminando outliers a nivel de cada grupo de Estrato,\n",
        "    conservando solo los registros entre el percentil 5 y el 95% de cada grupo.\n",
        "    \"\"\"\n",
        "    groups = []\n",
        "    for estrato, group in df.groupby(\"Estrato\"):\n",
        "        lower = group[variable].quantile(0.05)\n",
        "        upper = group[variable].quantile(0.95)\n",
        "        group_filtered = group[(group[variable] >= lower) & (group[variable] <= upper)]\n",
        "        groups.append(group_filtered)\n",
        "    return pd.concat(groups)\n",
        "\n",
        "# Layout del dashboard\n",
        "app.layout = html.Div([\n",
        "    html.H1(\"Dashboard: Precio de Apartamentos en Medellín por Estrato\"),\n",
        "\n",
        "    html.Div([\n",
        "        html.Label(\"Seleccionar variable para boxplot\"),\n",
        "        dcc.Dropdown(\n",
        "            id='variable_dropdown',\n",
        "            options=[\n",
        "                {'label': 'Precio', 'value': 'Precio'},\n",
        "                {'label': 'Área Construida', 'value': 'AreaConstruida'},\n",
        "                {'label': 'Habitaciones', 'value': 'Habitaciones'},\n",
        "                {'label': 'Baños', 'value': 'Banos'},\n",
        "                {'label': 'Administración', 'value': 'Administracion'},\n",
        "                {'label': 'Parqueaderos', 'value': 'Parqueaderos'}\n",
        "            ],\n",
        "            value='Precio'\n",
        "        )\n",
        "    ], style={'width': '40%', 'display': 'inline-block'}),\n",
        "\n",
        "    dcc.Graph(id='boxplot_graph', style={'width': '100%', 'height': '600px'}),\n",
        "\n",
        "    html.Div([\n",
        "        html.Label(\"Filtrar por número de baños\"),\n",
        "        dcc.Slider(\n",
        "            id='banos_slider',\n",
        "            min=int(df['Banos'].min()),\n",
        "            max=int(df['Banos'].max()),\n",
        "            step=1,\n",
        "            marks={int(b): str(int(b)) for b in sorted(df['Banos'].dropna().unique())},\n",
        "            value=int(df['Banos'].min())\n",
        "        )\n",
        "    ], style={'width': '80%', 'padding': '40px'}),\n",
        "\n",
        "    dcc.Graph(id='scatter_area_precio', style={'width': '100%', 'height': '600px'}),\n",
        "\n",
        "    html.Div([\n",
        "        html.H3(\"Narrativa\"),\n",
        "        html.P(\"Antes de presentar el dashboard a la audiencia, se han realizado ajustes para que los gráficos sean más claros. \"\n",
        "               \"Se han removido los datos extremos (outliers) a nivel de cada estrato, limitando los valores mostrados a los percentiles \"\n",
        "               \"5 y 95 de cada grupo. Esto evita espacios en blanco innecesarios y facilita la interpretación visual para usuarios no técnicos, \"\n",
        "               \"permitiendo ver de forma clara las tendencias y patrones en el mercado inmobiliario.\")\n",
        "    ], style={\"padding\": \"20px\"})\n",
        "])\n",
        "\n",
        "# Callback para actualizar el boxplot con eliminación de outliers a nivel de cada grupo\n",
        "@app.callback(\n",
        "    Output('boxplot_graph', 'figure'),\n",
        "    Input('variable_dropdown', 'value')\n",
        ")\n",
        "def update_boxplot(variable):\n",
        "    # Filtrar los datos por grupo para eliminar outliers en cada estrato\n",
        "    df_filtered_group = filter_by_group(df, variable)\n",
        "\n",
        "    # Para \"Precio\" se puede aplicar logaritmo en el eje y para mejorar la visualización\n",
        "    log_y = True if variable == 'Precio' else False\n",
        "\n",
        "    fig = px.box(df_filtered_group, x='Estrato', y=variable, points=\"all\",\n",
        "                 log_y=log_y,\n",
        "                 title=f\"Distribución de {variable} por Estrato (Datos entre 5% y 95% por grupo)\")\n",
        "    return fig\n",
        "\n",
        "# Callback para actualizar el scatter plot según el filtro de baños\n",
        "@app.callback(\n",
        "    Output('scatter_area_precio', 'figure'),\n",
        "    Input('banos_slider', 'value')\n",
        ")\n",
        "def update_scatter(banos):\n",
        "    filtered_df = df[df['Banos'] == banos]\n",
        "    fig = px.scatter(filtered_df, x='AreaConstruida', y='Precio', color='Estrato',\n",
        "                     title=f\"Precio vs. Área Construida para {banos} baños\")\n",
        "    return fig\n",
        "\n",
        "if __name__ == '__main__':\n",
        "    app.run(debug=True)\n",
        "\n",
        "\n"
      ],
      "metadata": {
        "colab": {
          "base_uri": "https://localhost:8080/",
          "height": 672
        },
        "id": "rQfRRFkZtGsV",
        "outputId": "c85daf13-a42c-410c-c852-4841d128bbb3"
      },
      "execution_count": 123,
      "outputs": [
        {
          "output_type": "display_data",
          "data": {
            "text/plain": [
              "<IPython.core.display.Javascript object>"
            ],
            "application/javascript": [
              "(async (port, path, width, height, cache, element) => {\n",
              "    if (!google.colab.kernel.accessAllowed && !cache) {\n",
              "      return;\n",
              "    }\n",
              "    element.appendChild(document.createTextNode(''));\n",
              "    const url = await google.colab.kernel.proxyPort(port, {cache});\n",
              "    const iframe = document.createElement('iframe');\n",
              "    iframe.src = new URL(path, url).toString();\n",
              "    iframe.height = height;\n",
              "    iframe.width = width;\n",
              "    iframe.style.border = 0;\n",
              "    iframe.allow = [\n",
              "        'accelerometer',\n",
              "        'autoplay',\n",
              "        'camera',\n",
              "        'clipboard-read',\n",
              "        'clipboard-write',\n",
              "        'gyroscope',\n",
              "        'magnetometer',\n",
              "        'microphone',\n",
              "        'serial',\n",
              "        'usb',\n",
              "        'xr-spatial-tracking',\n",
              "    ].join('; ');\n",
              "    element.appendChild(iframe);\n",
              "  })(8050, \"/\", \"100%\", 650, false, window.element)"
            ]
          },
          "metadata": {}
        }
      ]
    }
  ]
}